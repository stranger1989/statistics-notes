{
 "cells": [
  {
   "attachments": {},
   "cell_type": "markdown",
   "metadata": {},
   "source": [
    "## frequency table histogram\n"
   ]
  },
  {
   "cell_type": "code",
   "execution_count": 6,
   "metadata": {},
   "outputs": [],
   "source": [
    "import math\n",
    "\n",
    "import numpy as np\n",
    "import pandas as pd\n",
    "import matplotlib.pyplot as plt\n",
    "import seaborn as sns"
   ]
  },
  {
   "cell_type": "code",
   "execution_count": 7,
   "metadata": {},
   "outputs": [],
   "source": [
    "sns.set()"
   ]
  },
  {
   "cell_type": "code",
   "execution_count": 8,
   "metadata": {},
   "outputs": [
    {
     "data": {
      "text/html": [
       "<div>\n",
       "<style scoped>\n",
       "    .dataframe tbody tr th:only-of-type {\n",
       "        vertical-align: middle;\n",
       "    }\n",
       "\n",
       "    .dataframe tbody tr th {\n",
       "        vertical-align: top;\n",
       "    }\n",
       "\n",
       "    .dataframe thead th {\n",
       "        text-align: right;\n",
       "    }\n",
       "</style>\n",
       "<table border=\"1\" class=\"dataframe\">\n",
       "  <thead>\n",
       "    <tr style=\"text-align: right;\">\n",
       "      <th></th>\n",
       "      <th>total_bill</th>\n",
       "      <th>tip</th>\n",
       "      <th>sex</th>\n",
       "      <th>smoker</th>\n",
       "      <th>day</th>\n",
       "      <th>time</th>\n",
       "      <th>size</th>\n",
       "    </tr>\n",
       "  </thead>\n",
       "  <tbody>\n",
       "    <tr>\n",
       "      <th>0</th>\n",
       "      <td>16.99</td>\n",
       "      <td>1.01</td>\n",
       "      <td>Female</td>\n",
       "      <td>No</td>\n",
       "      <td>Sun</td>\n",
       "      <td>Dinner</td>\n",
       "      <td>2</td>\n",
       "    </tr>\n",
       "    <tr>\n",
       "      <th>1</th>\n",
       "      <td>10.34</td>\n",
       "      <td>1.66</td>\n",
       "      <td>Male</td>\n",
       "      <td>No</td>\n",
       "      <td>Sun</td>\n",
       "      <td>Dinner</td>\n",
       "      <td>3</td>\n",
       "    </tr>\n",
       "    <tr>\n",
       "      <th>2</th>\n",
       "      <td>21.01</td>\n",
       "      <td>3.50</td>\n",
       "      <td>Male</td>\n",
       "      <td>No</td>\n",
       "      <td>Sun</td>\n",
       "      <td>Dinner</td>\n",
       "      <td>3</td>\n",
       "    </tr>\n",
       "    <tr>\n",
       "      <th>3</th>\n",
       "      <td>23.68</td>\n",
       "      <td>3.31</td>\n",
       "      <td>Male</td>\n",
       "      <td>No</td>\n",
       "      <td>Sun</td>\n",
       "      <td>Dinner</td>\n",
       "      <td>2</td>\n",
       "    </tr>\n",
       "    <tr>\n",
       "      <th>4</th>\n",
       "      <td>24.59</td>\n",
       "      <td>3.61</td>\n",
       "      <td>Female</td>\n",
       "      <td>No</td>\n",
       "      <td>Sun</td>\n",
       "      <td>Dinner</td>\n",
       "      <td>4</td>\n",
       "    </tr>\n",
       "  </tbody>\n",
       "</table>\n",
       "</div>"
      ],
      "text/plain": [
       "   total_bill   tip     sex smoker  day    time  size\n",
       "0       16.99  1.01  Female     No  Sun  Dinner     2\n",
       "1       10.34  1.66    Male     No  Sun  Dinner     3\n",
       "2       21.01  3.50    Male     No  Sun  Dinner     3\n",
       "3       23.68  3.31    Male     No  Sun  Dinner     2\n",
       "4       24.59  3.61  Female     No  Sun  Dinner     4"
      ]
     },
     "execution_count": 8,
     "metadata": {},
     "output_type": "execute_result"
    }
   ],
   "source": [
    "# https://rdrr.io/cran/reshape2/man/tips.html\n",
    "df = sns.load_dataset(\"tips\")\n",
    "df.head()"
   ]
  },
  {
   "attachments": {},
   "cell_type": "markdown",
   "metadata": {},
   "source": [
    "### frequency table\n"
   ]
  },
  {
   "cell_type": "code",
   "execution_count": 9,
   "metadata": {},
   "outputs": [
    {
     "data": {
      "text/html": [
       "<div>\n",
       "<style scoped>\n",
       "    .dataframe tbody tr th:only-of-type {\n",
       "        vertical-align: middle;\n",
       "    }\n",
       "\n",
       "    .dataframe tbody tr th {\n",
       "        vertical-align: top;\n",
       "    }\n",
       "\n",
       "    .dataframe thead th {\n",
       "        text-align: right;\n",
       "    }\n",
       "</style>\n",
       "<table border=\"1\" class=\"dataframe\">\n",
       "  <thead>\n",
       "    <tr style=\"text-align: right;\">\n",
       "      <th></th>\n",
       "      <th>class_value</th>\n",
       "      <th>freq</th>\n",
       "      <th>rel_freq</th>\n",
       "      <th>cum_freq</th>\n",
       "      <th>rel_cum_freq</th>\n",
       "    </tr>\n",
       "  </thead>\n",
       "  <tbody>\n",
       "    <tr>\n",
       "      <th>(-0.001, 1.25]</th>\n",
       "      <td>0.625</td>\n",
       "      <td>10</td>\n",
       "      <td>0.040984</td>\n",
       "      <td>10</td>\n",
       "      <td>0.040984</td>\n",
       "    </tr>\n",
       "    <tr>\n",
       "      <th>(1.25, 2.5]</th>\n",
       "      <td>1.875</td>\n",
       "      <td>98</td>\n",
       "      <td>0.401639</td>\n",
       "      <td>108</td>\n",
       "      <td>0.442623</td>\n",
       "    </tr>\n",
       "    <tr>\n",
       "      <th>(2.5, 3.75]</th>\n",
       "      <td>3.125</td>\n",
       "      <td>80</td>\n",
       "      <td>0.327869</td>\n",
       "      <td>188</td>\n",
       "      <td>0.770492</td>\n",
       "    </tr>\n",
       "    <tr>\n",
       "      <th>(3.75, 5.0]</th>\n",
       "      <td>4.375</td>\n",
       "      <td>38</td>\n",
       "      <td>0.155738</td>\n",
       "      <td>226</td>\n",
       "      <td>0.926230</td>\n",
       "    </tr>\n",
       "    <tr>\n",
       "      <th>(5.0, 6.25]</th>\n",
       "      <td>5.625</td>\n",
       "      <td>11</td>\n",
       "      <td>0.045082</td>\n",
       "      <td>237</td>\n",
       "      <td>0.971311</td>\n",
       "    </tr>\n",
       "    <tr>\n",
       "      <th>(6.25, 7.5]</th>\n",
       "      <td>6.875</td>\n",
       "      <td>4</td>\n",
       "      <td>0.016393</td>\n",
       "      <td>241</td>\n",
       "      <td>0.987705</td>\n",
       "    </tr>\n",
       "    <tr>\n",
       "      <th>(7.5, 8.75]</th>\n",
       "      <td>8.125</td>\n",
       "      <td>1</td>\n",
       "      <td>0.004098</td>\n",
       "      <td>242</td>\n",
       "      <td>0.991803</td>\n",
       "    </tr>\n",
       "    <tr>\n",
       "      <th>(8.75, 10.0]</th>\n",
       "      <td>9.375</td>\n",
       "      <td>2</td>\n",
       "      <td>0.008197</td>\n",
       "      <td>244</td>\n",
       "      <td>1.000000</td>\n",
       "    </tr>\n",
       "  </tbody>\n",
       "</table>\n",
       "</div>"
      ],
      "text/plain": [
       "                class_value  freq  rel_freq  cum_freq  rel_cum_freq\n",
       "(-0.001, 1.25]        0.625    10  0.040984        10      0.040984\n",
       "(1.25, 2.5]           1.875    98  0.401639       108      0.442623\n",
       "(2.5, 3.75]           3.125    80  0.327869       188      0.770492\n",
       "(3.75, 5.0]           4.375    38  0.155738       226      0.926230\n",
       "(5.0, 6.25]           5.625    11  0.045082       237      0.971311\n",
       "(6.25, 7.5]           6.875     4  0.016393       241      0.987705\n",
       "(7.5, 8.75]           8.125     1  0.004098       242      0.991803\n",
       "(8.75, 10.0]          9.375     2  0.008197       244      1.000000"
      ]
     },
     "execution_count": 9,
     "metadata": {},
     "output_type": "execute_result"
    }
   ],
   "source": [
    "### calculate number_of_bins with Sturges' rule\n",
    "sample_size = len(df)\n",
    "number_of_bins = round(math.log2(sample_size) + 1)\n",
    "\n",
    "tip_series = df[\"tip\"]\n",
    "bins = np.linspace(0, np.amax(tip_series), number_of_bins)\n",
    "freq = tip_series.value_counts(bins=bins, sort=False)\n",
    "\n",
    "class_value = (bins[:-1] + bins[1:]) / 2\n",
    "rel_freq = freq / tip_series.count()\n",
    "cum_freq = freq.cumsum()\n",
    "rel_cum_freq = rel_freq.cumsum()\n",
    "\n",
    "frequency_table = pd.DataFrame(\n",
    "    {\n",
    "        \"class_value\": class_value,\n",
    "        \"freq\": freq,\n",
    "        \"rel_freq\": rel_freq,\n",
    "        \"cum_freq\": cum_freq,\n",
    "        \"rel_cum_freq\": rel_cum_freq,\n",
    "    },\n",
    "    index=freq.index,\n",
    ")\n",
    "frequency_table"
   ]
  },
  {
   "cell_type": "code",
   "execution_count": 10,
   "metadata": {},
   "outputs": [
    {
     "data": {
      "image/png": "[encoded data removed]",
      "text/plain": [
       "<Figure size 640x480 with 2 Axes>"
      ]
     },
     "metadata": {},
     "output_type": "display_data"
    }
   ],
   "source": [
    "fig, axes = plt.subplots()\n",
    "\n",
    "sns.barplot(\n",
    "    data=frequency_table,\n",
    "    x=frequency_table.index,\n",
    "    y=\"freq\",\n",
    "    width=1,\n",
    "    color=\"b\",\n",
    "    alpha=0.7,\n",
    "    ax=axes,\n",
    ")\n",
    "plt.xticks(rotation=90)\n",
    "axes_2 = axes.twinx()\n",
    "rel_cum_freq.plot(ax=axes_2)\n",
    "axes_2.grid(False)"
   ]
  }
 ],
 "metadata": {
  "kernelspec": {
   "display_name": ".venv",
   "language": "python",
   "name": "python3"
  },
  "language_info": {
   "codemirror_mode": {
    "name": "ipython",
    "version": 3
   },
   "file_extension": ".py",
   "mimetype": "text/x-python",
   "name": "python",
   "nbconvert_exporter": "python",
   "pygments_lexer": "ipython3",
   "version": "3.9.9"
  },
  "orig_nbformat": 4,
  "vscode": {
   "interpreter": {
    "hash": "fac800d10b907cb035fbc3930734444b03c59d72528c9736dc0089ea163b2dcb"
   }
  }
 },
 "nbformat": 4,
 "nbformat_minor": 2
}
