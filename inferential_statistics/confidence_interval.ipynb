{
 "cells": [
  {
   "attachments": {},
   "cell_type": "markdown",
   "metadata": {},
   "source": [
    "## confidence interval\n"
   ]
  },
  {
   "cell_type": "code",
   "execution_count": 32,
   "metadata": {},
   "outputs": [],
   "source": [
    "import numpy as np\n",
    "import pandas as pd\n",
    "import matplotlib.pyplot as plt\n",
    "import seaborn as sns\n",
    "from scipy import stats"
   ]
  },
  {
   "cell_type": "code",
   "execution_count": 33,
   "metadata": {},
   "outputs": [],
   "source": [
    "sns.set()"
   ]
  },
  {
   "cell_type": "code",
   "execution_count": 34,
   "metadata": {},
   "outputs": [
    {
     "data": {
      "text/html": [
       "<div>\n",
       "<style scoped>\n",
       "    .dataframe tbody tr th:only-of-type {\n",
       "        vertical-align: middle;\n",
       "    }\n",
       "\n",
       "    .dataframe tbody tr th {\n",
       "        vertical-align: top;\n",
       "    }\n",
       "\n",
       "    .dataframe thead th {\n",
       "        text-align: right;\n",
       "    }\n",
       "</style>\n",
       "<table border=\"1\" class=\"dataframe\">\n",
       "  <thead>\n",
       "    <tr style=\"text-align: right;\">\n",
       "      <th></th>\n",
       "      <th>survived</th>\n",
       "      <th>pclass</th>\n",
       "      <th>sex</th>\n",
       "      <th>age</th>\n",
       "      <th>sibsp</th>\n",
       "      <th>parch</th>\n",
       "      <th>fare</th>\n",
       "      <th>embarked</th>\n",
       "      <th>class</th>\n",
       "      <th>who</th>\n",
       "      <th>adult_male</th>\n",
       "      <th>deck</th>\n",
       "      <th>embark_town</th>\n",
       "      <th>alive</th>\n",
       "      <th>alone</th>\n",
       "    </tr>\n",
       "  </thead>\n",
       "  <tbody>\n",
       "    <tr>\n",
       "      <th>0</th>\n",
       "      <td>0</td>\n",
       "      <td>3</td>\n",
       "      <td>male</td>\n",
       "      <td>22.0</td>\n",
       "      <td>1</td>\n",
       "      <td>0</td>\n",
       "      <td>7.2500</td>\n",
       "      <td>S</td>\n",
       "      <td>Third</td>\n",
       "      <td>man</td>\n",
       "      <td>True</td>\n",
       "      <td>NaN</td>\n",
       "      <td>Southampton</td>\n",
       "      <td>no</td>\n",
       "      <td>False</td>\n",
       "    </tr>\n",
       "    <tr>\n",
       "      <th>1</th>\n",
       "      <td>1</td>\n",
       "      <td>1</td>\n",
       "      <td>female</td>\n",
       "      <td>38.0</td>\n",
       "      <td>1</td>\n",
       "      <td>0</td>\n",
       "      <td>71.2833</td>\n",
       "      <td>C</td>\n",
       "      <td>First</td>\n",
       "      <td>woman</td>\n",
       "      <td>False</td>\n",
       "      <td>C</td>\n",
       "      <td>Cherbourg</td>\n",
       "      <td>yes</td>\n",
       "      <td>False</td>\n",
       "    </tr>\n",
       "    <tr>\n",
       "      <th>2</th>\n",
       "      <td>1</td>\n",
       "      <td>3</td>\n",
       "      <td>female</td>\n",
       "      <td>26.0</td>\n",
       "      <td>0</td>\n",
       "      <td>0</td>\n",
       "      <td>7.9250</td>\n",
       "      <td>S</td>\n",
       "      <td>Third</td>\n",
       "      <td>woman</td>\n",
       "      <td>False</td>\n",
       "      <td>NaN</td>\n",
       "      <td>Southampton</td>\n",
       "      <td>yes</td>\n",
       "      <td>True</td>\n",
       "    </tr>\n",
       "    <tr>\n",
       "      <th>3</th>\n",
       "      <td>1</td>\n",
       "      <td>1</td>\n",
       "      <td>female</td>\n",
       "      <td>35.0</td>\n",
       "      <td>1</td>\n",
       "      <td>0</td>\n",
       "      <td>53.1000</td>\n",
       "      <td>S</td>\n",
       "      <td>First</td>\n",
       "      <td>woman</td>\n",
       "      <td>False</td>\n",
       "      <td>C</td>\n",
       "      <td>Southampton</td>\n",
       "      <td>yes</td>\n",
       "      <td>False</td>\n",
       "    </tr>\n",
       "    <tr>\n",
       "      <th>4</th>\n",
       "      <td>0</td>\n",
       "      <td>3</td>\n",
       "      <td>male</td>\n",
       "      <td>35.0</td>\n",
       "      <td>0</td>\n",
       "      <td>0</td>\n",
       "      <td>8.0500</td>\n",
       "      <td>S</td>\n",
       "      <td>Third</td>\n",
       "      <td>man</td>\n",
       "      <td>True</td>\n",
       "      <td>NaN</td>\n",
       "      <td>Southampton</td>\n",
       "      <td>no</td>\n",
       "      <td>True</td>\n",
       "    </tr>\n",
       "  </tbody>\n",
       "</table>\n",
       "</div>"
      ],
      "text/plain": [
       "   survived  pclass     sex   age  sibsp  parch     fare embarked  class  \\\n",
       "0         0       3    male  22.0      1      0   7.2500        S  Third   \n",
       "1         1       1  female  38.0      1      0  71.2833        C  First   \n",
       "2         1       3  female  26.0      0      0   7.9250        S  Third   \n",
       "3         1       1  female  35.0      1      0  53.1000        S  First   \n",
       "4         0       3    male  35.0      0      0   8.0500        S  Third   \n",
       "\n",
       "     who  adult_male deck  embark_town alive  alone  \n",
       "0    man        True  NaN  Southampton    no  False  \n",
       "1  woman       False    C    Cherbourg   yes  False  \n",
       "2  woman       False  NaN  Southampton   yes   True  \n",
       "3  woman       False    C  Southampton   yes  False  \n",
       "4    man        True  NaN  Southampton    no   True  "
      ]
     },
     "execution_count": 34,
     "metadata": {},
     "output_type": "execute_result"
    }
   ],
   "source": [
    "# https://www.kaggle.com/c/titanic/data\n",
    "df = sns.load_dataset(\"titanic\")\n",
    "df.head()"
   ]
  },
  {
   "cell_type": "code",
   "execution_count": 35,
   "metadata": {},
   "outputs": [
    {
     "data": {
      "text/plain": [
       "891"
      ]
     },
     "execution_count": 35,
     "metadata": {},
     "output_type": "execute_result"
    }
   ],
   "source": [
    "len(df)"
   ]
  },
  {
   "attachments": {},
   "cell_type": "markdown",
   "metadata": {},
   "source": [
    "### ratio confidence interval\n",
    "\n",
    "$$\\displaystyle \\widehat{p}-z_{\\alpha/2} \\times \\sqrt{\\frac{\\widehat{p}(1-\\widehat{p})}{n}} \\leq p \\leq \\widehat{p} + z_{\\alpha/2} \\times \\sqrt{\\frac{\\widehat{p}(1-\\widehat{p})}{n}}$$"
   ]
  },
  {
   "cell_type": "code",
   "execution_count": 36,
   "metadata": {},
   "outputs": [
    {
     "data": {
      "text/plain": [
       "0.3838383838383838"
      ]
     },
     "execution_count": 36,
     "metadata": {},
     "output_type": "execute_result"
    }
   ],
   "source": [
    "population_survived = df[\"survived\"].dropna()\n",
    "is_survived = 1\n",
    "\n",
    "population_survived_ratio = (\n",
    "    population_survived[population_survived == is_survived].count()\n",
    "    / population_survived.count()\n",
    ")\n",
    "population_survived_ratio"
   ]
  },
  {
   "attachments": {},
   "cell_type": "markdown",
   "metadata": {},
   "source": [
    "estimate probability of survival in titanic passengers"
   ]
  },
  {
   "cell_type": "code",
   "execution_count": 37,
   "metadata": {},
   "outputs": [
    {
     "name": "stdout",
     "output_type": "stream",
     "text": [
      "True     94\n",
      "False     6\n",
      "Name: is_in_confidence_interval, dtype: int64\n",
      "     min   max  is_in_confidence_interval\n",
      "0   0.26  0.44                       True\n",
      "1   0.31  0.50                       True\n",
      "2   0.23  0.41                       True\n",
      "3   0.27  0.46                       True\n",
      "4   0.27  0.46                       True\n",
      "..   ...   ...                        ...\n",
      "95  0.27  0.46                       True\n",
      "96  0.33  0.53                       True\n",
      "97  0.22  0.40                       True\n",
      "98  0.22  0.40                       True\n",
      "99  0.27  0.46                       True\n",
      "\n",
      "[100 rows x 3 columns]\n"
     ]
    }
   ],
   "source": [
    "number_of_samples = 100\n",
    "sample_size = 100\n",
    "alpha = 0.95\n",
    "results = []\n",
    "\n",
    "for i in range(number_of_samples):\n",
    "    sample = population_survived.sample(sample_size)\n",
    "    sample_survived_ratio = sample[sample == is_survived].count() / sample.count()\n",
    "    min, max = stats.binom.interval(alpha, sample_size, sample_survived_ratio)\n",
    "    min_ratio = min / sample_size\n",
    "    max_ratio = max / sample_size\n",
    "    results.append(\n",
    "        {\n",
    "            \"min\": min_ratio,\n",
    "            \"max\": max_ratio,\n",
    "            \"is_in_confidence_interval\": min_ratio\n",
    "            < population_survived_ratio\n",
    "            < max_ratio,\n",
    "        }\n",
    "    )\n",
    "\n",
    "print(pd.DataFrame(results)[\"is_in_confidence_interval\"].value_counts())\n",
    "print(pd.DataFrame(results))"
   ]
  },
  {
   "attachments": {},
   "cell_type": "markdown",
   "metadata": {},
   "source": [
    "### mean confidence interval by $t$ distribution\n",
    "\n",
    "$$\\displaystyle \\overline{x}-t_{\\alpha/2}(n-1) \\times \\sqrt{\\frac{s^{2}}{n}} \\leq \\mu  \\leq \\overline{x}+t_{\\alpha/2}(n-1) \\times \\sqrt{\\frac{s^{2}}{n}}$$"
   ]
  },
  {
   "cell_type": "code",
   "execution_count": 38,
   "metadata": {},
   "outputs": [
    {
     "data": {
      "text/plain": [
       "29.69911764705882"
      ]
     },
     "execution_count": 38,
     "metadata": {},
     "output_type": "execute_result"
    }
   ],
   "source": [
    "population_age = df[\"age\"].dropna()\n",
    "\n",
    "population_age_mean = population_age.mean()\n",
    "population_age_mean"
   ]
  },
  {
   "attachments": {},
   "cell_type": "markdown",
   "metadata": {},
   "source": [
    "estimate mean of age on titanic passengers"
   ]
  },
  {
   "cell_type": "code",
   "execution_count": 39,
   "metadata": {},
   "outputs": [
    {
     "name": "stdout",
     "output_type": "stream",
     "text": [
      "True     95\n",
      "False     5\n",
      "Name: is_in_confidence_interval, dtype: int64\n",
      "          min        max  is_in_confidence_interval\n",
      "0   15.310394  40.689606                       True\n",
      "1   15.767059  37.032941                       True\n",
      "2   23.461792  48.338208                       True\n",
      "3   14.018880  46.881120                       True\n",
      "4    9.139124  36.194876                       True\n",
      "..        ...        ...                        ...\n",
      "95  10.153935  33.846065                       True\n",
      "96  19.798234  36.001766                       True\n",
      "97  18.651906  46.048094                       True\n",
      "98  14.483014  40.316986                       True\n",
      "99  15.660911  39.039089                       True\n",
      "\n",
      "[100 rows x 3 columns]\n"
     ]
    }
   ],
   "source": [
    "number_of_samples = 100\n",
    "sample_size = 10\n",
    "degree_of_freedom = sample_size - 1\n",
    "alpha = 0.95\n",
    "results = []\n",
    "\n",
    "for i in range(number_of_samples):\n",
    "    sample = population_age.sample(sample_size)\n",
    "    sample_age_mean = sample.mean()\n",
    "    sample_age_tvar = stats.tvar(sample)\n",
    "    min, max = stats.t(degree_of_freedom).interval(\n",
    "        alpha, loc=sample_age_mean, scale=np.sqrt(sample_age_tvar / sample_size)\n",
    "    )\n",
    "    results.append(\n",
    "        {\n",
    "            \"min\": min,\n",
    "            \"max\": max,\n",
    "            \"is_in_confidence_interval\": min < population_age_mean < max,\n",
    "        }\n",
    "    )\n",
    "\n",
    "print(pd.DataFrame(results)[\"is_in_confidence_interval\"].value_counts())\n",
    "print(pd.DataFrame(results))"
   ]
  },
  {
   "attachments": {},
   "cell_type": "markdown",
   "metadata": {},
   "source": [
    "### variance confidence interval by $\\chi^2$ distribution\n",
    "\n",
    "$$\\displaystyle \\frac{(n-1)s^{2}}{\\chi_{\\alpha/2}^{2}(n-1)} \\leq \\sigma^{2} \\leq \\frac{(n-1)s^{2}}{\\chi_{1-\\alpha/2}^{2}(n-1)}$$"
   ]
  },
  {
   "cell_type": "code",
   "execution_count": 43,
   "metadata": {},
   "outputs": [
    {
     "data": {
      "text/plain": [
       "211.01912474630805"
      ]
     },
     "execution_count": 43,
     "metadata": {},
     "output_type": "execute_result"
    }
   ],
   "source": [
    "population_age = df[\"age\"].dropna()\n",
    "\n",
    "population_age_var = population_age.var()\n",
    "population_age_var"
   ]
  },
  {
   "attachments": {},
   "cell_type": "markdown",
   "metadata": {},
   "source": [
    "estimate variance of age on titanic passengers"
   ]
  },
  {
   "cell_type": "code",
   "execution_count": 48,
   "metadata": {},
   "outputs": [
    {
     "name": "stdout",
     "output_type": "stream",
     "text": [
      "True     98\n",
      "False     2\n",
      "Name: is_in_confidence_interval, dtype: int64\n",
      "           min          max  is_in_confidence_interval\n",
      "0    71.915140   506.602844                       True\n",
      "1    98.729061   695.492261                       True\n",
      "2    86.969468   612.652360                       True\n",
      "3    54.587219   384.537120                       True\n",
      "4    42.102180   296.586844                       True\n",
      "..         ...          ...                        ...\n",
      "95   89.424987   629.950146                       True\n",
      "96   65.715989   462.933218                       True\n",
      "97   92.988571   655.053651                       True\n",
      "98  165.018047  1162.461934                       True\n",
      "99   50.697144   357.133665                       True\n",
      "\n",
      "[100 rows x 3 columns]\n"
     ]
    }
   ],
   "source": [
    "number_of_samples = 100\n",
    "sample_size = 10\n",
    "degree_of_freedom = sample_size - 1\n",
    "alpha = 0.95\n",
    "results = []\n",
    "\n",
    "for i in range(number_of_samples):\n",
    "    sample = population_age.sample(sample_size)\n",
    "    sample_age_tvar = stats.tvar(sample)\n",
    "    min, max = stats.chi2(degree_of_freedom).interval(alpha)\n",
    "    min_var = degree_of_freedom * sample_age_tvar / max\n",
    "    max_var = degree_of_freedom * sample_age_tvar / min\n",
    "    results.append(\n",
    "        {\n",
    "            \"min\": min_var,\n",
    "            \"max\": max_var,\n",
    "            \"is_in_confidence_interval\": min_var < population_age_var < max_var,\n",
    "        }\n",
    "    )\n",
    "\n",
    "print(pd.DataFrame(results)[\"is_in_confidence_interval\"].value_counts())\n",
    "print(pd.DataFrame(results))"
   ]
  }
 ],
 "metadata": {
  "kernelspec": {
   "display_name": ".venv",
   "language": "python",
   "name": "python3"
  },
  "language_info": {
   "codemirror_mode": {
    "name": "ipython",
    "version": 3
   },
   "file_extension": ".py",
   "mimetype": "text/x-python",
   "name": "python",
   "nbconvert_exporter": "python",
   "pygments_lexer": "ipython3",
   "version": "3.9.9"
  },
  "orig_nbformat": 4,
  "vscode": {
   "interpreter": {
    "hash": "fac800d10b907cb035fbc3930734444b03c59d72528c9736dc0089ea163b2dcb"
   }
  }
 },
 "nbformat": 4,
 "nbformat_minor": 2
}
